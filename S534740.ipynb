{
 "cells": [
  {
   "cell_type": "code",
   "execution_count": 3,
   "metadata": {},
   "outputs": [
    {
     "ename": "SyntaxError",
     "evalue": "invalid syntax (<ipython-input-3-c67aa334f318>, line 1)",
     "output_type": "error",
     "traceback": [
      "\u001b[1;36m  File \u001b[1;32m\"<ipython-input-3-c67aa334f318>\"\u001b[1;36m, line \u001b[1;32m1\u001b[0m\n\u001b[1;33m    Sravya Katpally\u001b[0m\n\u001b[1;37m                  ^\u001b[0m\n\u001b[1;31mSyntaxError\u001b[0m\u001b[1;31m:\u001b[0m invalid syntax\n"
     ]
    }
   ],
   "source": [
    "Sravya Katpally"
   ]
  },
  {
   "cell_type": "code",
   "execution_count": 5,
   "metadata": {},
   "outputs": [
    {
     "name": "stdout",
     "output_type": "stream",
     "text": [
      "##\n",
      "##    ##\n",
      "###  ###\n",
      "########\n"
     ]
    }
   ],
   "source": [
    "for a in range(1,5):\n",
    "    for b in range(1,a+1):\n",
    "        print('#',end='')\n",
    "    if a==1:\n",
    "        for v in range(5,0,1):\n",
    "            print(end=' ')\n",
    "    elif a==2:\n",
    "        for v in range(7,0,-2):\n",
    "            print(end=' ')\n",
    "    elif a==3:\n",
    "        for v in range(4,0,-2):\n",
    "            print(end=' ')\n",
    "    for d in range(1,a+1):\n",
    "        print('#',end='')\n",
    "    print()"
   ]
  },
  {
   "cell_type": "code",
   "execution_count": null,
   "metadata": {},
   "outputs": [],
   "source": [
    "h"
   ]
  }
 ],
 "metadata": {
  "kernelspec": {
   "display_name": "Python 3",
   "language": "python",
   "name": "python3"
  },
  "language_info": {
   "codemirror_mode": {
    "name": "ipython",
    "version": 3
   },
   "file_extension": ".py",
   "mimetype": "text/x-python",
   "name": "python",
   "nbconvert_exporter": "python",
   "pygments_lexer": "ipython3",
   "version": "3.7.3"
  }
 },
 "nbformat": 4,
 "nbformat_minor": 2
}
